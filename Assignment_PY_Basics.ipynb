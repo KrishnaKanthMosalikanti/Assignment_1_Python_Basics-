{
 "cells": [
  {
   "cell_type": "code",
   "execution_count": 4,
   "id": "894c0772-4305-47d9-bca7-d5e4c911b684",
   "metadata": {},
   "outputs": [
    {
     "name": "stdout",
     "output_type": "stream",
     "text": [
      "--Before Swapping--\n",
      "x = 5 y = 4\n"
     ]
    }
   ],
   "source": [
    "#Declare two variables, `x` and `y`, and assign them integer values. Swap the \n",
    "#values of these variables without using any temporary variable.\n",
    "\n",
    "x=5\n",
    "y=4\n",
    "print(\"--Before Swapping--\")\n",
    "print(\"x =\",x,\"y =\",y)\n"
   ]
  },
  {
   "cell_type": "code",
   "execution_count": 5,
   "id": "3786f552-a8a2-4c1b-b6cc-b83fb6c96eb4",
   "metadata": {},
   "outputs": [
    {
     "name": "stdout",
     "output_type": "stream",
     "text": [
      "--After Swapping--\n",
      "x = 4 y = 5\n"
     ]
    }
   ],
   "source": [
    "x,y=y,x\n",
    "print(\"--After Swapping--\")\n",
    "print(\"x =\",x,\"y =\",y)\n"
   ]
  },
  {
   "cell_type": "markdown",
   "id": "1d3525bd-1acb-4a0f-91a7-cb7df013204b",
   "metadata": {},
   "source": [
    "2. Create a program that calculates the area of a rectangle. Take the length and\n",
    "width as inputs from the user and store them in variables. Calculate and\n",
    "display the area"
   ]
  },
  {
   "cell_type": "code",
   "execution_count": 12,
   "id": "601c1560-3f79-4e65-815e-2ef2ada9bc01",
   "metadata": {},
   "outputs": [
    {
     "name": "stdin",
     "output_type": "stream",
     "text": [
      "Enter Length: 3\n",
      "Enter Breadth: 4\n"
     ]
    },
    {
     "name": "stdout",
     "output_type": "stream",
     "text": [
      "Area of Rectangle is: 12 CM\n",
      "---Execution is completed---\n"
     ]
    }
   ],
   "source": [
    "l=int(input(\"Enter Length:\"))\n",
    "b=int(input(\"Enter Breadth:\"))\n",
    "Area=l*b\n",
    "print(\"Area of Rectangle is:\",Area,\"CM\")\n",
    "print(\"---Execution is completed---\")"
   ]
  },
  {
   "cell_type": "markdown",
   "id": "4e0406a9-4f06-4b81-a092-2996b07a06e4",
   "metadata": {},
   "source": [
    "3. Write a Python program that converts temperatures from Celsius to\n",
    "Fahrenheit. Take the temperature in Celsius as input, store it in a variable,\n",
    "convert it to Fahrenheit, and display the result."
   ]
  },
  {
   "cell_type": "code",
   "execution_count": 13,
   "id": "0bbf441b-6a43-4715-908c-6ddf7b3f6c17",
   "metadata": {},
   "outputs": [
    {
     "name": "stdin",
     "output_type": "stream",
     "text": [
      "Enter Temperature Value 32\n"
     ]
    },
    {
     "name": "stdout",
     "output_type": "stream",
     "text": [
      "32 Degrees in Celisius is equal to 89.6 Degrees in Fahrenheit\n"
     ]
    }
   ],
   "source": [
    "T=int(input(\"Enter Temperature Value\"))\n",
    "F=T*1.8+32\n",
    "print(T,\"Degrees in Celisius is equal to\",F,\"Degrees in Fahrenheit\")"
   ]
  },
  {
   "cell_type": "markdown",
   "id": "a3600fd3-4e74-486c-8fcd-26ccbca39c07",
   "metadata": {},
   "source": [
    "                                      TOPIC:  String Based Questions"
   ]
  },
  {
   "cell_type": "markdown",
   "id": "7728c57f-8f9a-4299-82cd-656d312fe932",
   "metadata": {},
   "source": [
    "1. Write a Python program that takes a string as input and prints the length of\n",
    "the string."
   ]
  },
  {
   "cell_type": "code",
   "execution_count": 14,
   "id": "1d721883-e3ba-4ae1-9f9f-951397240543",
   "metadata": {},
   "outputs": [
    {
     "name": "stdin",
     "output_type": "stream",
     "text": [
      "Enter the string: krishnakanth\n"
     ]
    },
    {
     "name": "stdout",
     "output_type": "stream",
     "text": [
      "Length of the given string krishnakanth is: 12\n"
     ]
    }
   ],
   "source": [
    "S=input(\"Enter the string:\")\n",
    "U=len(S)\n",
    "print(\"Length of the given string\",S,\"is:\",U)"
   ]
  },
  {
   "cell_type": "markdown",
   "id": "9643328b-b0e0-409d-87d2-45c63b69e1f6",
   "metadata": {},
   "source": [
    "2. Create a program that takes a sentence from the user and counts the number\n",
    "of vowels (a, e, i, o, u) in the string."
   ]
  },
  {
   "cell_type": "code",
   "execution_count": 19,
   "id": "7fdef30e-2d2a-418e-9d71-3b4b6e82d8ee",
   "metadata": {},
   "outputs": [
    {
     "name": "stdin",
     "output_type": "stream",
     "text": [
      "Enter the string: krish\n"
     ]
    },
    {
     "name": "stdout",
     "output_type": "stream",
     "text": [
      "Total number of vowels in the given string is: 1\n"
     ]
    }
   ],
   "source": [
    "V=input(\"Enter the string:\")\n",
    "VO=\"aeiouAEIOU\"\n",
    "VO_COUNT=0\n",
    "for X in V:\n",
    "    if X in VO:\n",
    "        VO_COUNT=VO_COUNT+1\n",
    "print(\"Total number of vowels in the given string is:\",VO_COUNT)\n",
    "    "
   ]
  },
  {
   "cell_type": "markdown",
   "id": "fdfa8cd1-ff33-40fb-934f-579ab2118404",
   "metadata": {},
   "source": [
    "3. Given a string, reverse the order of characters using string slicing and print\n",
    "the reversed string."
   ]
  },
  {
   "cell_type": "code",
   "execution_count": 20,
   "id": "753e818d-79f6-4344-ac51-077145a6a4b2",
   "metadata": {},
   "outputs": [
    {
     "name": "stdin",
     "output_type": "stream",
     "text": [
      "Enter the string: krish\n"
     ]
    },
    {
     "name": "stdout",
     "output_type": "stream",
     "text": [
      "Reverse of the given input string is: hsirk\n"
     ]
    }
   ],
   "source": [
    "N=input(\"Enter the string:\")\n",
    "O=N[::-1]\n",
    "print(\"Reverse of the given input string is:\",O)"
   ]
  },
  {
   "cell_type": "markdown",
   "id": "42801610-abc0-430c-8bf9-6bd2c7b9fcb8",
   "metadata": {},
   "source": [
    "4. Write a program that takes a string as input and checks if it is a palindrome\n",
    "(reads the same forwards and backwards)."
   ]
  },
  {
   "cell_type": "code",
   "execution_count": 24,
   "id": "8f067cd5-253f-4883-87f2-9900b386222b",
   "metadata": {},
   "outputs": [
    {
     "name": "stdin",
     "output_type": "stream",
     "text": [
      "Enter the string: madam\n"
     ]
    },
    {
     "name": "stdout",
     "output_type": "stream",
     "text": [
      "Entered Sring is Palindrome\n"
     ]
    }
   ],
   "source": [
    "P=input(\"Enter the string:\")\n",
    "V=P[::1]\n",
    "W=P[::-1]\n",
    "if V==W:\n",
    "    print(\"Entered Sring is Palindrome\")\n",
    "else:\n",
    "    print(\"Entered String is not Palindrome\")"
   ]
  },
  {
   "cell_type": "markdown",
   "id": "a61a2fb7-eb46-4a87-a23a-955a9ceff5e9",
   "metadata": {},
   "source": [
    "5. Create a program that takes a string as input and removes all the spaces from\n",
    "it. Print the modified string without spaces."
   ]
  },
  {
   "cell_type": "code",
   "execution_count": 26,
   "id": "745d73b5-388d-4652-aff6-7002a82236fc",
   "metadata": {},
   "outputs": [
    {
     "name": "stdin",
     "output_type": "stream",
     "text": [
      "Enter the string: k ri   shna\n"
     ]
    },
    {
     "name": "stdout",
     "output_type": "stream",
     "text": [
      "After removing space: krishna\n"
     ]
    }
   ],
   "source": [
    "S=input(\"Enter the string:\")\n",
    "NewS=S.replace(\" \",\"\")\n",
    "print(\"After removing space:\",NewS)"
   ]
  },
  {
   "cell_type": "code",
   "execution_count": null,
   "id": "491c3780-59fc-49af-9d8e-7d3c5b0750b1",
   "metadata": {},
   "outputs": [],
   "source": []
  }
 ],
 "metadata": {
  "kernelspec": {
   "display_name": "Python 3 (ipykernel)",
   "language": "python",
   "name": "python3"
  },
  "language_info": {
   "codemirror_mode": {
    "name": "ipython",
    "version": 3
   },
   "file_extension": ".py",
   "mimetype": "text/x-python",
   "name": "python",
   "nbconvert_exporter": "python",
   "pygments_lexer": "ipython3",
   "version": "3.10.8"
  }
 },
 "nbformat": 4,
 "nbformat_minor": 5
}
